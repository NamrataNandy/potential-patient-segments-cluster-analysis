{
 "cells": [
  {
   "cell_type": "markdown",
   "id": "54fa7efe",
   "metadata": {},
   "source": [
    "## Import libraries"
   ]
  },
  {
   "cell_type": "code",
   "execution_count": 1,
   "id": "48d14c2b",
   "metadata": {},
   "outputs": [],
   "source": [
    "import numpy as np\n",
    "import pandas as pd\n",
    "from datetime import datetime\n",
    "import matplotlib.pyplot as plt\n",
    "import seaborn as sns\n",
    "from sklearn.preprocessing import StandardScaler"
   ]
  },
  {
   "cell_type": "markdown",
   "id": "c24edae0",
   "metadata": {},
   "source": [
    "## Import data"
   ]
  },
  {
   "cell_type": "code",
   "execution_count": 3,
   "id": "b17a3668",
   "metadata": {},
   "outputs": [
    {
     "data": {
      "text/html": [
       "<div>\n",
       "<style scoped>\n",
       "    .dataframe tbody tr th:only-of-type {\n",
       "        vertical-align: middle;\n",
       "    }\n",
       "\n",
       "    .dataframe tbody tr th {\n",
       "        vertical-align: top;\n",
       "    }\n",
       "\n",
       "    .dataframe thead th {\n",
       "        text-align: right;\n",
       "    }\n",
       "</style>\n",
       "<table border=\"1\" class=\"dataframe\">\n",
       "  <thead>\n",
       "    <tr style=\"text-align: right;\">\n",
       "      <th></th>\n",
       "      <th>patient_id</th>\n",
       "      <th>claim_id</th>\n",
       "      <th>claim_date</th>\n",
       "      <th>claim_amount</th>\n",
       "      <th>physician_id</th>\n",
       "      <th>diagnosis_code</th>\n",
       "      <th>procedure_code</th>\n",
       "      <th>patient_dob</th>\n",
       "      <th>DOB year</th>\n",
       "      <th>patient_gender</th>\n",
       "      <th>patient_race</th>\n",
       "      <th>Patient country</th>\n",
       "      <th>patient_has_cancer</th>\n",
       "      <th>patient_has_diabetes</th>\n",
       "      <th>Total money spent</th>\n",
       "    </tr>\n",
       "  </thead>\n",
       "  <tbody>\n",
       "    <tr>\n",
       "      <th>0</th>\n",
       "      <td>0057BAF42479AF6A</td>\n",
       "      <td>542412281632605</td>\n",
       "      <td>2009-07-22</td>\n",
       "      <td>50</td>\n",
       "      <td>5.056870e+09</td>\n",
       "      <td>72270</td>\n",
       "      <td>NaN</td>\n",
       "      <td>1942-05-01</td>\n",
       "      <td>1942</td>\n",
       "      <td>Female</td>\n",
       "      <td>White</td>\n",
       "      <td>USA</td>\n",
       "      <td>2</td>\n",
       "      <td>2</td>\n",
       "      <td>16580</td>\n",
       "    </tr>\n",
       "    <tr>\n",
       "      <th>1</th>\n",
       "      <td>0057BAF42479AF6A</td>\n",
       "      <td>542842280924481</td>\n",
       "      <td>2009-09-19</td>\n",
       "      <td>50</td>\n",
       "      <td>8.933392e+09</td>\n",
       "      <td>4019</td>\n",
       "      <td>NaN</td>\n",
       "      <td>1942-05-01</td>\n",
       "      <td>1942</td>\n",
       "      <td>Female</td>\n",
       "      <td>White</td>\n",
       "      <td>Germany</td>\n",
       "      <td>2</td>\n",
       "      <td>2</td>\n",
       "      <td>12897</td>\n",
       "    </tr>\n",
       "    <tr>\n",
       "      <th>2</th>\n",
       "      <td>0097F42825586D59</td>\n",
       "      <td>542892281178580</td>\n",
       "      <td>2009-06-11</td>\n",
       "      <td>200</td>\n",
       "      <td>3.274116e+08</td>\n",
       "      <td>6108</td>\n",
       "      <td>NaN</td>\n",
       "      <td>1921-07-01</td>\n",
       "      <td>1921</td>\n",
       "      <td>Female</td>\n",
       "      <td>White</td>\n",
       "      <td>France</td>\n",
       "      <td>2</td>\n",
       "      <td>2</td>\n",
       "      <td>13049</td>\n",
       "    </tr>\n",
       "    <tr>\n",
       "      <th>3</th>\n",
       "      <td>0097F42825586D59</td>\n",
       "      <td>542042281368648</td>\n",
       "      <td>2009-10-22</td>\n",
       "      <td>60</td>\n",
       "      <td>4.022239e+09</td>\n",
       "      <td>38653</td>\n",
       "      <td>NaN</td>\n",
       "      <td>1921-07-01</td>\n",
       "      <td>1921</td>\n",
       "      <td>Female</td>\n",
       "      <td>White</td>\n",
       "      <td>UK</td>\n",
       "      <td>2</td>\n",
       "      <td>2</td>\n",
       "      <td>14002</td>\n",
       "    </tr>\n",
       "    <tr>\n",
       "      <th>4</th>\n",
       "      <td>0097F42825586D59</td>\n",
       "      <td>542292281274912</td>\n",
       "      <td>2010-03-03</td>\n",
       "      <td>10</td>\n",
       "      <td>6.845115e+09</td>\n",
       "      <td>7140</td>\n",
       "      <td>NaN</td>\n",
       "      <td>1921-07-01</td>\n",
       "      <td>1921</td>\n",
       "      <td>Female</td>\n",
       "      <td>White</td>\n",
       "      <td>Italy</td>\n",
       "      <td>2</td>\n",
       "      <td>2</td>\n",
       "      <td>19684</td>\n",
       "    </tr>\n",
       "  </tbody>\n",
       "</table>\n",
       "</div>"
      ],
      "text/plain": [
       "         patient_id         claim_id claim_date  claim_amount  physician_id  \\\n",
       "0  0057BAF42479AF6A  542412281632605 2009-07-22            50  5.056870e+09   \n",
       "1  0057BAF42479AF6A  542842280924481 2009-09-19            50  8.933392e+09   \n",
       "2  0097F42825586D59  542892281178580 2009-06-11           200  3.274116e+08   \n",
       "3  0097F42825586D59  542042281368648 2009-10-22            60  4.022239e+09   \n",
       "4  0097F42825586D59  542292281274912 2010-03-03            10  6.845115e+09   \n",
       "\n",
       "  diagnosis_code  procedure_code patient_dob  DOB year patient_gender  \\\n",
       "0          72270             NaN  1942-05-01      1942         Female   \n",
       "1           4019             NaN  1942-05-01      1942         Female   \n",
       "2           6108             NaN  1921-07-01      1921         Female   \n",
       "3          38653             NaN  1921-07-01      1921         Female   \n",
       "4           7140             NaN  1921-07-01      1921         Female   \n",
       "\n",
       "  patient_race Patient country  patient_has_cancer  patient_has_diabetes  \\\n",
       "0        White             USA                   2                     2   \n",
       "1        White         Germany                   2                     2   \n",
       "2        White          France                   2                     2   \n",
       "3        White              UK                   2                     2   \n",
       "4        White           Italy                   2                     2   \n",
       "\n",
       "   Total money spent  \n",
       "0              16580  \n",
       "1              12897  \n",
       "2              13049  \n",
       "3              14002  \n",
       "4              19684  "
      ]
     },
     "execution_count": 3,
     "metadata": {},
     "output_type": "execute_result"
    }
   ],
   "source": [
    "df0 = pd.read_excel(r'/Patient Segmentation- Cluster Analysis/Dummy Data.xlsx')\n",
    "df0.head()"
   ]
  },
  {
   "cell_type": "code",
   "execution_count": 4,
   "id": "179472a6",
   "metadata": {},
   "outputs": [
    {
     "data": {
      "text/plain": [
       "Germany    355\n",
       "USA        284\n",
       "Italy      279\n",
       "UK         263\n",
       "Spain      245\n",
       "Canada     241\n",
       "France     171\n",
       "Name: Patient country, dtype: int64"
      ]
     },
     "execution_count": 4,
     "metadata": {},
     "output_type": "execute_result"
    }
   ],
   "source": [
    "df0['Patient country'].value_counts()"
   ]
  },
  {
   "cell_type": "markdown",
   "id": "47b1ec23",
   "metadata": {},
   "source": [
    "## RFM Analysis"
   ]
  },
  {
   "cell_type": "code",
   "execution_count": 5,
   "id": "87b1c1cf",
   "metadata": {},
   "outputs": [],
   "source": [
    "import datetime\n",
    "recent_date = max(df0.claim_date) + datetime.timedelta(days=1) \n",
    "\n",
    "    \n",
    "# Aggregate data by each patient\n",
    "patients = df0.groupby(['patient_id']).agg({\n",
    "    'claim_date': lambda x: (recent_date - x.max()).days,\n",
    "    'claim_id': 'count',\n",
    "    'Total money spent': 'sum'})\n",
    "# Rename columns\n",
    "patients.rename(columns = {'claim_date': 'Recency',\n",
    "                            'claim_id': 'Frequency',\n",
    "                            'Total money spent': 'MonetaryValue'}, inplace=True)"
   ]
  },
  {
   "cell_type": "code",
   "execution_count": 6,
   "id": "fa3931b8",
   "metadata": {},
   "outputs": [
    {
     "data": {
      "text/html": [
       "<div>\n",
       "<style scoped>\n",
       "    .dataframe tbody tr th:only-of-type {\n",
       "        vertical-align: middle;\n",
       "    }\n",
       "\n",
       "    .dataframe tbody tr th {\n",
       "        vertical-align: top;\n",
       "    }\n",
       "\n",
       "    .dataframe thead th {\n",
       "        text-align: right;\n",
       "    }\n",
       "</style>\n",
       "<table border=\"1\" class=\"dataframe\">\n",
       "  <thead>\n",
       "    <tr style=\"text-align: right;\">\n",
       "      <th></th>\n",
       "      <th>Recency</th>\n",
       "      <th>Frequency</th>\n",
       "      <th>MonetaryValue</th>\n",
       "    </tr>\n",
       "    <tr>\n",
       "      <th>patient_id</th>\n",
       "      <th></th>\n",
       "      <th></th>\n",
       "      <th></th>\n",
       "    </tr>\n",
       "  </thead>\n",
       "  <tbody>\n",
       "    <tr>\n",
       "      <th>0057BAF42479AF6A</th>\n",
       "      <td>469</td>\n",
       "      <td>2</td>\n",
       "      <td>29477</td>\n",
       "    </tr>\n",
       "    <tr>\n",
       "      <th>0097F42825586D59</th>\n",
       "      <td>304</td>\n",
       "      <td>3</td>\n",
       "      <td>46735</td>\n",
       "    </tr>\n",
       "    <tr>\n",
       "      <th>00B666309E7AC0F4</th>\n",
       "      <td>558</td>\n",
       "      <td>1</td>\n",
       "      <td>2781</td>\n",
       "    </tr>\n",
       "    <tr>\n",
       "      <th>010F1304121BD9C1</th>\n",
       "      <td>479</td>\n",
       "      <td>1</td>\n",
       "      <td>1315</td>\n",
       "    </tr>\n",
       "    <tr>\n",
       "      <th>01181B6BB426AE9F</th>\n",
       "      <td>186</td>\n",
       "      <td>9</td>\n",
       "      <td>59931</td>\n",
       "    </tr>\n",
       "    <tr>\n",
       "      <th>...</th>\n",
       "      <td>...</td>\n",
       "      <td>...</td>\n",
       "      <td>...</td>\n",
       "    </tr>\n",
       "    <tr>\n",
       "      <th>85E3CDC972326B5C</th>\n",
       "      <td>436</td>\n",
       "      <td>3</td>\n",
       "      <td>18925</td>\n",
       "    </tr>\n",
       "    <tr>\n",
       "      <th>861622575BACC07A</th>\n",
       "      <td>227</td>\n",
       "      <td>1</td>\n",
       "      <td>6073</td>\n",
       "    </tr>\n",
       "    <tr>\n",
       "      <th>866960908F292822</th>\n",
       "      <td>159</td>\n",
       "      <td>8</td>\n",
       "      <td>67831</td>\n",
       "    </tr>\n",
       "    <tr>\n",
       "      <th>86A699D6D47CDECA</th>\n",
       "      <td>518</td>\n",
       "      <td>2</td>\n",
       "      <td>22506</td>\n",
       "    </tr>\n",
       "    <tr>\n",
       "      <th>86F922BCA62AAF33</th>\n",
       "      <td>716</td>\n",
       "      <td>1</td>\n",
       "      <td>14192</td>\n",
       "    </tr>\n",
       "  </tbody>\n",
       "</table>\n",
       "<p>546 rows × 3 columns</p>\n",
       "</div>"
      ],
      "text/plain": [
       "                  Recency  Frequency  MonetaryValue\n",
       "patient_id                                         \n",
       "0057BAF42479AF6A      469          2          29477\n",
       "0097F42825586D59      304          3          46735\n",
       "00B666309E7AC0F4      558          1           2781\n",
       "010F1304121BD9C1      479          1           1315\n",
       "01181B6BB426AE9F      186          9          59931\n",
       "...                   ...        ...            ...\n",
       "85E3CDC972326B5C      436          3          18925\n",
       "861622575BACC07A      227          1           6073\n",
       "866960908F292822      159          8          67831\n",
       "86A699D6D47CDECA      518          2          22506\n",
       "86F922BCA62AAF33      716          1          14192\n",
       "\n",
       "[546 rows x 3 columns]"
      ]
     },
     "execution_count": 6,
     "metadata": {},
     "output_type": "execute_result"
    }
   ],
   "source": [
    "patients"
   ]
  },
  {
   "cell_type": "code",
   "execution_count": null,
   "id": "7d1756b0",
   "metadata": {},
   "outputs": [],
   "source": []
  },
  {
   "cell_type": "code",
   "execution_count": 7,
   "id": "7b2a413a",
   "metadata": {},
   "outputs": [
    {
     "name": "stderr",
     "output_type": "stream",
     "text": [
      "C:\\Users\\Namrata\\anaconda3\\lib\\site-packages\\seaborn\\distributions.py:2557: FutureWarning: `distplot` is a deprecated function and will be removed in a future version. Please adapt your code to use either `displot` (a figure-level function with similar flexibility) or `histplot` (an axes-level function for histograms).\n",
      "  warnings.warn(msg, FutureWarning)\n",
      "C:\\Users\\Namrata\\anaconda3\\lib\\site-packages\\seaborn\\distributions.py:2557: FutureWarning: `distplot` is a deprecated function and will be removed in a future version. Please adapt your code to use either `displot` (a figure-level function with similar flexibility) or `histplot` (an axes-level function for histograms).\n",
      "  warnings.warn(msg, FutureWarning)\n",
      "C:\\Users\\Namrata\\anaconda3\\lib\\site-packages\\seaborn\\distributions.py:2557: FutureWarning: `distplot` is a deprecated function and will be removed in a future version. Please adapt your code to use either `displot` (a figure-level function with similar flexibility) or `histplot` (an axes-level function for histograms).\n",
      "  warnings.warn(msg, FutureWarning)\n"
     ]
    },
    {
     "data": {
      "image/png": "[encoded data removed]",
      "text/plain": [
       "<Figure size 1080x216 with 3 Axes>"
      ]
     },
     "metadata": {
      "needs_background": "light"
     },
     "output_type": "display_data"
    }
   ],
   "source": [
    "fig, ax = plt.subplots(1, 3, figsize=(15,3))\n",
    "sns.distplot(patients['Recency'], ax=ax[0])\n",
    "sns.distplot(patients['Frequency'], ax=ax[1])\n",
    "sns.distplot(patients['MonetaryValue'], ax=ax[2])\n",
    "plt.tight_layout()\n",
    "plt.show()"
   ]
  },
  {
   "cell_type": "code",
   "execution_count": 8,
   "id": "b6a6e06e",
   "metadata": {},
   "outputs": [],
   "source": [
    "from scipy import stats\n",
    "def patients_skewness(x):\n",
    "    fig, ax = plt.subplots(2, 2, figsize=(5,5))\n",
    "    sns.distplot(patients[x], ax=ax[0,0])\n",
    "    sns.distplot(np.log(patients[x]), ax=ax[0,1])\n",
    "    sns.distplot(np.sqrt(patients[x]), ax=ax[1,0])\n",
    "    sns.distplot(stats.boxcox(patients[x])[0], ax=ax[1,1])\n",
    "    plt.tight_layout()\n",
    "    plt.show()\n",
    "    \n",
    "    print(patients[x].skew().round(2))\n",
    "    print(np.log(patients[x]).skew().round(2))\n",
    "    print(np.sqrt(patients[x]).skew().round(2))\n",
    "    print(pd.Series(stats.boxcox(patients[x])[0]).skew().round(2))"
   ]
  },
  {
   "cell_type": "code",
   "execution_count": 9,
   "id": "d85f2a0c",
   "metadata": {},
   "outputs": [
    {
     "name": "stderr",
     "output_type": "stream",
     "text": [
      "C:\\Users\\Namrata\\anaconda3\\lib\\site-packages\\seaborn\\distributions.py:2557: FutureWarning: `distplot` is a deprecated function and will be removed in a future version. Please adapt your code to use either `displot` (a figure-level function with similar flexibility) or `histplot` (an axes-level function for histograms).\n",
      "  warnings.warn(msg, FutureWarning)\n",
      "C:\\Users\\Namrata\\anaconda3\\lib\\site-packages\\seaborn\\distributions.py:2557: FutureWarning: `distplot` is a deprecated function and will be removed in a future version. Please adapt your code to use either `displot` (a figure-level function with similar flexibility) or `histplot` (an axes-level function for histograms).\n",
      "  warnings.warn(msg, FutureWarning)\n",
      "C:\\Users\\Namrata\\anaconda3\\lib\\site-packages\\seaborn\\distributions.py:2557: FutureWarning: `distplot` is a deprecated function and will be removed in a future version. Please adapt your code to use either `displot` (a figure-level function with similar flexibility) or `histplot` (an axes-level function for histograms).\n",
      "  warnings.warn(msg, FutureWarning)\n",
      "C:\\Users\\Namrata\\anaconda3\\lib\\site-packages\\seaborn\\distributions.py:2557: FutureWarning: `distplot` is a deprecated function and will be removed in a future version. Please adapt your code to use either `displot` (a figure-level function with similar flexibility) or `histplot` (an axes-level function for histograms).\n",
      "  warnings.warn(msg, FutureWarning)\n"
     ]
    },
    {
     "data": {
      "image/png": "[encoded data removed]",
      "text/plain": [
       "<Figure size 360x360 with 4 Axes>"
      ]
     },
     "metadata": {
      "needs_background": "light"
     },
     "output_type": "display_data"
    },
    {
     "name": "stdout",
     "output_type": "stream",
     "text": [
      "0.36\n",
      "-1.75\n",
      "-0.37\n",
      "-0.17\n"
     ]
    }
   ],
   "source": [
    "patients_skewness('Recency')"
   ]
  },
  {
   "cell_type": "code",
   "execution_count": 10,
   "id": "2e54fbdc",
   "metadata": {},
   "outputs": [
    {
     "name": "stderr",
     "output_type": "stream",
     "text": [
      "C:\\Users\\Namrata\\anaconda3\\lib\\site-packages\\seaborn\\distributions.py:2557: FutureWarning: `distplot` is a deprecated function and will be removed in a future version. Please adapt your code to use either `displot` (a figure-level function with similar flexibility) or `histplot` (an axes-level function for histograms).\n",
      "  warnings.warn(msg, FutureWarning)\n",
      "C:\\Users\\Namrata\\anaconda3\\lib\\site-packages\\seaborn\\distributions.py:2557: FutureWarning: `distplot` is a deprecated function and will be removed in a future version. Please adapt your code to use either `displot` (a figure-level function with similar flexibility) or `histplot` (an axes-level function for histograms).\n",
      "  warnings.warn(msg, FutureWarning)\n",
      "C:\\Users\\Namrata\\anaconda3\\lib\\site-packages\\seaborn\\distributions.py:2557: FutureWarning: `distplot` is a deprecated function and will be removed in a future version. Please adapt your code to use either `displot` (a figure-level function with similar flexibility) or `histplot` (an axes-level function for histograms).\n",
      "  warnings.warn(msg, FutureWarning)\n",
      "C:\\Users\\Namrata\\anaconda3\\lib\\site-packages\\seaborn\\distributions.py:2557: FutureWarning: `distplot` is a deprecated function and will be removed in a future version. Please adapt your code to use either `displot` (a figure-level function with similar flexibility) or `histplot` (an axes-level function for histograms).\n",
      "  warnings.warn(msg, FutureWarning)\n"
     ]
    },
    {
     "data": {
      "image/png": "[encoded data removed]",
      "text/plain": [
       "<Figure size 360x360 with 4 Axes>"
      ]
     },
     "metadata": {
      "needs_background": "light"
     },
     "output_type": "display_data"
    },
    {
     "name": "stdout",
     "output_type": "stream",
     "text": [
      "1.05\n",
      "0.36\n",
      "0.71\n",
      "0.13\n"
     ]
    }
   ],
   "source": [
    "patients_skewness('Frequency')"
   ]
  },
  {
   "cell_type": "code",
   "execution_count": 11,
   "id": "df409f48",
   "metadata": {},
   "outputs": [
    {
     "name": "stderr",
     "output_type": "stream",
     "text": [
      "C:\\Users\\Namrata\\anaconda3\\lib\\site-packages\\seaborn\\distributions.py:2557: FutureWarning: `distplot` is a deprecated function and will be removed in a future version. Please adapt your code to use either `displot` (a figure-level function with similar flexibility) or `histplot` (an axes-level function for histograms).\n",
      "  warnings.warn(msg, FutureWarning)\n",
      "C:\\Users\\Namrata\\anaconda3\\lib\\site-packages\\seaborn\\distributions.py:2557: FutureWarning: `distplot` is a deprecated function and will be removed in a future version. Please adapt your code to use either `displot` (a figure-level function with similar flexibility) or `histplot` (an axes-level function for histograms).\n",
      "  warnings.warn(msg, FutureWarning)\n",
      "C:\\Users\\Namrata\\anaconda3\\lib\\site-packages\\seaborn\\distributions.py:2557: FutureWarning: `distplot` is a deprecated function and will be removed in a future version. Please adapt your code to use either `displot` (a figure-level function with similar flexibility) or `histplot` (an axes-level function for histograms).\n",
      "  warnings.warn(msg, FutureWarning)\n",
      "C:\\Users\\Namrata\\anaconda3\\lib\\site-packages\\seaborn\\distributions.py:2557: FutureWarning: `distplot` is a deprecated function and will be removed in a future version. Please adapt your code to use either `displot` (a figure-level function with similar flexibility) or `histplot` (an axes-level function for histograms).\n",
      "  warnings.warn(msg, FutureWarning)\n"
     ]
    },
    {
     "data": {
      "image/png": "[encoded data removed]",
      "text/plain": [
       "<Figure size 360x360 with 4 Axes>"
      ]
     },
     "metadata": {
      "needs_background": "light"
     },
     "output_type": "display_data"
    },
    {
     "name": "stdout",
     "output_type": "stream",
     "text": [
      "1.06\n",
      "-0.98\n",
      "0.42\n",
      "-0.05\n"
     ]
    }
   ],
   "source": [
    "patients_skewness('MonetaryValue')"
   ]
  },
  {
   "cell_type": "markdown",
   "id": "9b7d3911",
   "metadata": {},
   "source": [
    "## Variable transformation for skewness"
   ]
  },
  {
   "cell_type": "code",
   "execution_count": 12,
   "id": "19882f91",
   "metadata": {},
   "outputs": [
    {
     "data": {
      "text/html": [
       "<div>\n",
       "<style scoped>\n",
       "    .dataframe tbody tr th:only-of-type {\n",
       "        vertical-align: middle;\n",
       "    }\n",
       "\n",
       "    .dataframe tbody tr th {\n",
       "        vertical-align: top;\n",
       "    }\n",
       "\n",
       "    .dataframe thead th {\n",
       "        text-align: right;\n",
       "    }\n",
       "</style>\n",
       "<table border=\"1\" class=\"dataframe\">\n",
       "  <thead>\n",
       "    <tr style=\"text-align: right;\">\n",
       "      <th></th>\n",
       "      <th>Recency</th>\n",
       "      <th>Frequency</th>\n",
       "      <th>MonetaryValue</th>\n",
       "    </tr>\n",
       "  </thead>\n",
       "  <tbody>\n",
       "    <tr>\n",
       "      <th>541</th>\n",
       "      <td>68.284251</td>\n",
       "      <td>0.922971</td>\n",
       "      <td>46.204047</td>\n",
       "    </tr>\n",
       "    <tr>\n",
       "      <th>542</th>\n",
       "      <td>45.016714</td>\n",
       "      <td>0.000000</td>\n",
       "      <td>33.365203</td>\n",
       "    </tr>\n",
       "    <tr>\n",
       "      <th>543</th>\n",
       "      <td>35.777827</td>\n",
       "      <td>1.508905</td>\n",
       "      <td>65.975902</td>\n",
       "    </tr>\n",
       "    <tr>\n",
       "      <th>544</th>\n",
       "      <td>76.168569</td>\n",
       "      <td>0.620225</td>\n",
       "      <td>48.517966</td>\n",
       "    </tr>\n",
       "    <tr>\n",
       "      <th>545</th>\n",
       "      <td>93.461554</td>\n",
       "      <td>0.000000</td>\n",
       "      <td>42.584959</td>\n",
       "    </tr>\n",
       "  </tbody>\n",
       "</table>\n",
       "</div>"
      ],
      "text/plain": [
       "       Recency  Frequency  MonetaryValue\n",
       "541  68.284251   0.922971      46.204047\n",
       "542  45.016714   0.000000      33.365203\n",
       "543  35.777827   1.508905      65.975902\n",
       "544  76.168569   0.620225      48.517966\n",
       "545  93.461554   0.000000      42.584959"
      ]
     },
     "execution_count": 12,
     "metadata": {},
     "output_type": "execute_result"
    }
   ],
   "source": [
    "# Set the Numbers\n",
    "\n",
    "patients_tf1 = pd.DataFrame()\n",
    "patients_tf1[\"Recency\"] = stats.boxcox(patients['Recency'])[0]\n",
    "patients_tf1[\"Frequency\"] = stats.boxcox(patients['Frequency'])[0]\n",
    "patients_tf1[\"MonetaryValue\"] = stats.boxcox(patients['MonetaryValue'])[0]\n",
    "patients_tf1.tail()"
   ]
  },
  {
   "cell_type": "markdown",
   "id": "a1bf6e18",
   "metadata": {},
   "source": [
    "## Standardization"
   ]
  },
  {
   "cell_type": "code",
   "execution_count": 13,
   "id": "8bcbdf72",
   "metadata": {},
   "outputs": [
    {
     "name": "stdout",
     "output_type": "stream",
     "text": [
      "[-0.  0.  0.]\n",
      "[1. 1. 1.]\n"
     ]
    }
   ],
   "source": [
    "scaler = StandardScaler()\n",
    "scaler.fit(patients_tf1)\n",
    "patients_normalized = scaler.transform(patients_tf1)\n",
    "print(patients_normalized.mean(axis = 0).round(2))\n",
    "print(patients_normalized.std(axis = 0).round(2))"
   ]
  },
  {
   "cell_type": "code",
   "execution_count": 14,
   "id": "bc7b4485",
   "metadata": {},
   "outputs": [
    {
     "data": {
      "text/html": [
       "<div>\n",
       "<style scoped>\n",
       "    .dataframe tbody tr th:only-of-type {\n",
       "        vertical-align: middle;\n",
       "    }\n",
       "\n",
       "    .dataframe tbody tr th {\n",
       "        vertical-align: top;\n",
       "    }\n",
       "\n",
       "    .dataframe thead th {\n",
       "        text-align: right;\n",
       "    }\n",
       "</style>\n",
       "<table border=\"1\" class=\"dataframe\">\n",
       "  <thead>\n",
       "    <tr style=\"text-align: right;\">\n",
       "      <th></th>\n",
       "      <th>0</th>\n",
       "      <th>1</th>\n",
       "      <th>2</th>\n",
       "    </tr>\n",
       "  </thead>\n",
       "  <tbody>\n",
       "    <tr>\n",
       "      <th>0</th>\n",
       "      <td>0.459727</td>\n",
       "      <td>-0.121270</td>\n",
       "      <td>0.224952</td>\n",
       "    </tr>\n",
       "    <tr>\n",
       "      <th>1</th>\n",
       "      <td>-0.221966</td>\n",
       "      <td>0.393651</td>\n",
       "      <td>0.737310</td>\n",
       "    </tr>\n",
       "    <tr>\n",
       "      <th>2</th>\n",
       "      <td>0.788698</td>\n",
       "      <td>-1.176171</td>\n",
       "      <td>-1.619163</td>\n",
       "    </tr>\n",
       "    <tr>\n",
       "      <th>3</th>\n",
       "      <td>0.497806</td>\n",
       "      <td>-1.176171</td>\n",
       "      <td>-2.003660</td>\n",
       "    </tr>\n",
       "    <tr>\n",
       "      <th>4</th>\n",
       "      <td>-0.802294</td>\n",
       "      <td>1.489812</td>\n",
       "      <td>1.040467</td>\n",
       "    </tr>\n",
       "  </tbody>\n",
       "</table>\n",
       "</div>"
      ],
      "text/plain": [
       "          0         1         2\n",
       "0  0.459727 -0.121270  0.224952\n",
       "1 -0.221966  0.393651  0.737310\n",
       "2  0.788698 -1.176171 -1.619163\n",
       "3  0.497806 -1.176171 -2.003660\n",
       "4 -0.802294  1.489812  1.040467"
      ]
     },
     "execution_count": 14,
     "metadata": {},
     "output_type": "execute_result"
    }
   ],
   "source": [
    "pd.DataFrame(patients_normalized).head()"
   ]
  },
  {
   "cell_type": "markdown",
   "id": "ca7867ec",
   "metadata": {},
   "source": [
    "## Clustering"
   ]
  },
  {
   "cell_type": "markdown",
   "id": "3be615af",
   "metadata": {},
   "source": [
    "### Choose k- number"
   ]
  },
  {
   "cell_type": "code",
   "execution_count": 15,
   "id": "563c9eb5",
   "metadata": {},
   "outputs": [
    {
     "name": "stderr",
     "output_type": "stream",
     "text": [
      "C:\\Users\\Namrata\\anaconda3\\lib\\site-packages\\sklearn\\cluster\\_kmeans.py:881: UserWarning: KMeans is known to have a memory leak on Windows with MKL, when there are less chunks than available threads. You can avoid it by setting the environment variable OMP_NUM_THREADS=3.\n",
      "  warnings.warn(\n"
     ]
    },
    {
     "data": {
      "image/png": "[encoded data removed]",
      "text/plain": [
       "<Figure size 432x288 with 1 Axes>"
      ]
     },
     "metadata": {
      "needs_background": "light"
     },
     "output_type": "display_data"
    }
   ],
   "source": [
    "from sklearn.cluster import KMeans\n",
    "\n",
    "sse = {}\n",
    "for k in range(1, 11):\n",
    "    kmeans = KMeans(n_clusters=k, random_state=666)\n",
    "    kmeans.fit(patients_normalized)\n",
    "    sse[k] = kmeans.inertia_ # SSE to closest cluster centroid\n",
    "\n",
    "plt.title('The Elbow Method')\n",
    "plt.xlabel('k')\n",
    "plt.ylabel('SSE')\n",
    "sns.pointplot(x=list(sse.keys()), y=list(sse.values()))\n",
    "plt.show()"
   ]
  },
  {
   "cell_type": "code",
   "execution_count": 16,
   "id": "5dad3fed",
   "metadata": {},
   "outputs": [
    {
     "data": {
      "text/plain": [
       "(546,)"
      ]
     },
     "execution_count": 16,
     "metadata": {},
     "output_type": "execute_result"
    }
   ],
   "source": [
    "model = KMeans(n_clusters=3, random_state=666)\n",
    "model.fit(patients_normalized)\n",
    "model.labels_.shape"
   ]
  },
  {
   "cell_type": "code",
   "execution_count": 17,
   "id": "e04be394",
   "metadata": {},
   "outputs": [
    {
     "data": {
      "text/plain": [
       "(546, 3)"
      ]
     },
     "execution_count": 17,
     "metadata": {},
     "output_type": "execute_result"
    }
   ],
   "source": [
    "patients.shape"
   ]
  },
  {
   "cell_type": "markdown",
   "id": "c35d463e",
   "metadata": {},
   "source": [
    "### Analysis"
   ]
  },
  {
   "cell_type": "code",
   "execution_count": 18,
   "id": "9b73d10b",
   "metadata": {},
   "outputs": [
    {
     "data": {
      "text/html": [
       "<div>\n",
       "<style scoped>\n",
       "    .dataframe tbody tr th:only-of-type {\n",
       "        vertical-align: middle;\n",
       "    }\n",
       "\n",
       "    .dataframe tbody tr th {\n",
       "        vertical-align: top;\n",
       "    }\n",
       "\n",
       "    .dataframe thead th {\n",
       "        text-align: right;\n",
       "    }\n",
       "</style>\n",
       "<table border=\"1\" class=\"dataframe\">\n",
       "  <thead>\n",
       "    <tr style=\"text-align: right;\">\n",
       "      <th></th>\n",
       "      <th>Recency</th>\n",
       "      <th>Frequency</th>\n",
       "      <th>MonetaryValue</th>\n",
       "      <th>cluster</th>\n",
       "    </tr>\n",
       "    <tr>\n",
       "      <th>patient_id</th>\n",
       "      <th></th>\n",
       "      <th></th>\n",
       "      <th></th>\n",
       "      <th></th>\n",
       "    </tr>\n",
       "  </thead>\n",
       "  <tbody>\n",
       "    <tr>\n",
       "      <th>0057BAF42479AF6A</th>\n",
       "      <td>469</td>\n",
       "      <td>2</td>\n",
       "      <td>29477</td>\n",
       "      <td>2</td>\n",
       "    </tr>\n",
       "    <tr>\n",
       "      <th>0097F42825586D59</th>\n",
       "      <td>304</td>\n",
       "      <td>3</td>\n",
       "      <td>46735</td>\n",
       "      <td>1</td>\n",
       "    </tr>\n",
       "    <tr>\n",
       "      <th>00B666309E7AC0F4</th>\n",
       "      <td>558</td>\n",
       "      <td>1</td>\n",
       "      <td>2781</td>\n",
       "      <td>2</td>\n",
       "    </tr>\n",
       "    <tr>\n",
       "      <th>010F1304121BD9C1</th>\n",
       "      <td>479</td>\n",
       "      <td>1</td>\n",
       "      <td>1315</td>\n",
       "      <td>2</td>\n",
       "    </tr>\n",
       "    <tr>\n",
       "      <th>01181B6BB426AE9F</th>\n",
       "      <td>186</td>\n",
       "      <td>9</td>\n",
       "      <td>59931</td>\n",
       "      <td>1</td>\n",
       "    </tr>\n",
       "  </tbody>\n",
       "</table>\n",
       "</div>"
      ],
      "text/plain": [
       "                  Recency  Frequency  MonetaryValue  cluster\n",
       "patient_id                                                  \n",
       "0057BAF42479AF6A      469          2          29477        2\n",
       "0097F42825586D59      304          3          46735        1\n",
       "00B666309E7AC0F4      558          1           2781        2\n",
       "010F1304121BD9C1      479          1           1315        2\n",
       "01181B6BB426AE9F      186          9          59931        1"
      ]
     },
     "execution_count": 18,
     "metadata": {},
     "output_type": "execute_result"
    }
   ],
   "source": [
    "patients['cluster'] = model.labels_\n",
    "patients.head()"
   ]
  },
  {
   "cell_type": "code",
   "execution_count": 19,
   "id": "218127f5",
   "metadata": {},
   "outputs": [
    {
     "data": {
      "text/html": [
       "<div>\n",
       "<style scoped>\n",
       "    .dataframe tbody tr th:only-of-type {\n",
       "        vertical-align: middle;\n",
       "    }\n",
       "\n",
       "    .dataframe tbody tr th {\n",
       "        vertical-align: top;\n",
       "    }\n",
       "\n",
       "    .dataframe thead tr th {\n",
       "        text-align: left;\n",
       "    }\n",
       "\n",
       "    .dataframe thead tr:last-of-type th {\n",
       "        text-align: right;\n",
       "    }\n",
       "</style>\n",
       "<table border=\"1\" class=\"dataframe\">\n",
       "  <thead>\n",
       "    <tr>\n",
       "      <th></th>\n",
       "      <th>Recency</th>\n",
       "      <th>Frequency</th>\n",
       "      <th colspan=\"2\" halign=\"left\">MonetaryValue</th>\n",
       "    </tr>\n",
       "    <tr>\n",
       "      <th></th>\n",
       "      <th>mean</th>\n",
       "      <th>mean</th>\n",
       "      <th>mean</th>\n",
       "      <th>count</th>\n",
       "    </tr>\n",
       "    <tr>\n",
       "      <th>cluster</th>\n",
       "      <th></th>\n",
       "      <th></th>\n",
       "      <th></th>\n",
       "      <th></th>\n",
       "    </tr>\n",
       "  </thead>\n",
       "  <tbody>\n",
       "    <tr>\n",
       "      <th>0</th>\n",
       "      <td>217.7</td>\n",
       "      <td>1.6</td>\n",
       "      <td>15381.0</td>\n",
       "      <td>167</td>\n",
       "    </tr>\n",
       "    <tr>\n",
       "      <th>1</th>\n",
       "      <td>330.9</td>\n",
       "      <td>6.6</td>\n",
       "      <td>64832.5</td>\n",
       "      <td>198</td>\n",
       "    </tr>\n",
       "    <tr>\n",
       "      <th>2</th>\n",
       "      <td>599.5</td>\n",
       "      <td>1.4</td>\n",
       "      <td>13542.2</td>\n",
       "      <td>181</td>\n",
       "    </tr>\n",
       "  </tbody>\n",
       "</table>\n",
       "</div>"
      ],
      "text/plain": [
       "        Recency Frequency MonetaryValue      \n",
       "           mean      mean          mean count\n",
       "cluster                                      \n",
       "0         217.7       1.6       15381.0   167\n",
       "1         330.9       6.6       64832.5   198\n",
       "2         599.5       1.4       13542.2   181"
      ]
     },
     "execution_count": 19,
     "metadata": {},
     "output_type": "execute_result"
    }
   ],
   "source": [
    "patients.groupby('cluster').agg({\n",
    "    'Recency':'mean',\n",
    "    'Frequency':'mean',\n",
    "    'MonetaryValue':['mean', 'count']}).round(1)"
   ]
  },
  {
   "cell_type": "markdown",
   "id": "33049976",
   "metadata": {},
   "source": [
    "### Snake plot to check how clusters differ from each other"
   ]
  },
  {
   "cell_type": "code",
   "execution_count": 20,
   "id": "2e465cf2",
   "metadata": {},
   "outputs": [
    {
     "data": {
      "text/html": [
       "<div>\n",
       "<style scoped>\n",
       "    .dataframe tbody tr th:only-of-type {\n",
       "        vertical-align: middle;\n",
       "    }\n",
       "\n",
       "    .dataframe tbody tr th {\n",
       "        vertical-align: top;\n",
       "    }\n",
       "\n",
       "    .dataframe thead th {\n",
       "        text-align: right;\n",
       "    }\n",
       "</style>\n",
       "<table border=\"1\" class=\"dataframe\">\n",
       "  <thead>\n",
       "    <tr style=\"text-align: right;\">\n",
       "      <th></th>\n",
       "      <th>Recency</th>\n",
       "      <th>Frequency</th>\n",
       "      <th>MonetaryValue</th>\n",
       "      <th>ID</th>\n",
       "      <th>cluster</th>\n",
       "    </tr>\n",
       "  </thead>\n",
       "  <tbody>\n",
       "    <tr>\n",
       "      <th>0</th>\n",
       "      <td>0.459727</td>\n",
       "      <td>-0.121270</td>\n",
       "      <td>0.224952</td>\n",
       "      <td>0057BAF42479AF6A</td>\n",
       "      <td>2</td>\n",
       "    </tr>\n",
       "    <tr>\n",
       "      <th>1</th>\n",
       "      <td>-0.221966</td>\n",
       "      <td>0.393651</td>\n",
       "      <td>0.737310</td>\n",
       "      <td>0097F42825586D59</td>\n",
       "      <td>1</td>\n",
       "    </tr>\n",
       "    <tr>\n",
       "      <th>2</th>\n",
       "      <td>0.788698</td>\n",
       "      <td>-1.176171</td>\n",
       "      <td>-1.619163</td>\n",
       "      <td>00B666309E7AC0F4</td>\n",
       "      <td>2</td>\n",
       "    </tr>\n",
       "    <tr>\n",
       "      <th>3</th>\n",
       "      <td>0.497806</td>\n",
       "      <td>-1.176171</td>\n",
       "      <td>-2.003660</td>\n",
       "      <td>010F1304121BD9C1</td>\n",
       "      <td>2</td>\n",
       "    </tr>\n",
       "    <tr>\n",
       "      <th>4</th>\n",
       "      <td>-0.802294</td>\n",
       "      <td>1.489812</td>\n",
       "      <td>1.040467</td>\n",
       "      <td>01181B6BB426AE9F</td>\n",
       "      <td>1</td>\n",
       "    </tr>\n",
       "  </tbody>\n",
       "</table>\n",
       "</div>"
      ],
      "text/plain": [
       "    Recency  Frequency  MonetaryValue                ID  cluster\n",
       "0  0.459727  -0.121270       0.224952  0057BAF42479AF6A        2\n",
       "1 -0.221966   0.393651       0.737310  0097F42825586D59        1\n",
       "2  0.788698  -1.176171      -1.619163  00B666309E7AC0F4        2\n",
       "3  0.497806  -1.176171      -2.003660  010F1304121BD9C1        2\n",
       "4 -0.802294   1.489812       1.040467  01181B6BB426AE9F        1"
      ]
     },
     "execution_count": 20,
     "metadata": {},
     "output_type": "execute_result"
    }
   ],
   "source": [
    "df_normalized = pd.DataFrame(patients_normalized, columns=['Recency', 'Frequency', 'MonetaryValue'])\n",
    "df_normalized['ID'] = patients.index\n",
    "df_normalized['cluster'] = model.labels_\n",
    "df_normalized.head()"
   ]
  },
  {
   "cell_type": "markdown",
   "id": "0b2bc009",
   "metadata": {},
   "source": [
    "### melt"
   ]
  },
  {
   "cell_type": "code",
   "execution_count": 21,
   "id": "7dc2b146",
   "metadata": {},
   "outputs": [
    {
     "data": {
      "text/html": [
       "<div>\n",
       "<style scoped>\n",
       "    .dataframe tbody tr th:only-of-type {\n",
       "        vertical-align: middle;\n",
       "    }\n",
       "\n",
       "    .dataframe tbody tr th {\n",
       "        vertical-align: top;\n",
       "    }\n",
       "\n",
       "    .dataframe thead th {\n",
       "        text-align: right;\n",
       "    }\n",
       "</style>\n",
       "<table border=\"1\" class=\"dataframe\">\n",
       "  <thead>\n",
       "    <tr style=\"text-align: right;\">\n",
       "      <th></th>\n",
       "      <th>ID</th>\n",
       "      <th>cluster</th>\n",
       "      <th>Attribute</th>\n",
       "      <th>Value</th>\n",
       "    </tr>\n",
       "  </thead>\n",
       "  <tbody>\n",
       "    <tr>\n",
       "      <th>0</th>\n",
       "      <td>0057BAF42479AF6A</td>\n",
       "      <td>2</td>\n",
       "      <td>Recency</td>\n",
       "      <td>0.459727</td>\n",
       "    </tr>\n",
       "    <tr>\n",
       "      <th>1</th>\n",
       "      <td>0097F42825586D59</td>\n",
       "      <td>1</td>\n",
       "      <td>Recency</td>\n",
       "      <td>-0.221966</td>\n",
       "    </tr>\n",
       "    <tr>\n",
       "      <th>2</th>\n",
       "      <td>00B666309E7AC0F4</td>\n",
       "      <td>2</td>\n",
       "      <td>Recency</td>\n",
       "      <td>0.788698</td>\n",
       "    </tr>\n",
       "    <tr>\n",
       "      <th>3</th>\n",
       "      <td>010F1304121BD9C1</td>\n",
       "      <td>2</td>\n",
       "      <td>Recency</td>\n",
       "      <td>0.497806</td>\n",
       "    </tr>\n",
       "    <tr>\n",
       "      <th>4</th>\n",
       "      <td>01181B6BB426AE9F</td>\n",
       "      <td>1</td>\n",
       "      <td>Recency</td>\n",
       "      <td>-0.802294</td>\n",
       "    </tr>\n",
       "  </tbody>\n",
       "</table>\n",
       "</div>"
      ],
      "text/plain": [
       "                 ID  cluster Attribute     Value\n",
       "0  0057BAF42479AF6A        2   Recency  0.459727\n",
       "1  0097F42825586D59        1   Recency -0.221966\n",
       "2  00B666309E7AC0F4        2   Recency  0.788698\n",
       "3  010F1304121BD9C1        2   Recency  0.497806\n",
       "4  01181B6BB426AE9F        1   Recency -0.802294"
      ]
     },
     "execution_count": 21,
     "metadata": {},
     "output_type": "execute_result"
    }
   ],
   "source": [
    "df_nor_melt = pd.melt(df_normalized.reset_index(),\n",
    "                      id_vars=['ID', 'cluster'],\n",
    "                      value_vars=['Recency','Frequency','MonetaryValue'],\n",
    "                      var_name='Attribute',\n",
    "                      value_name='Value')\n",
    "df_nor_melt.head()"
   ]
  },
  {
   "cell_type": "code",
   "execution_count": 22,
   "id": "df9405aa",
   "metadata": {},
   "outputs": [
    {
     "name": "stderr",
     "output_type": "stream",
     "text": [
      "C:\\Users\\Namrata\\anaconda3\\lib\\site-packages\\seaborn\\_decorators.py:36: FutureWarning: Pass the following variables as keyword args: x, y. From version 0.12, the only valid positional argument will be `data`, and passing other arguments without an explicit keyword will result in an error or misinterpretation.\n",
      "  warnings.warn(\n"
     ]
    },
    {
     "data": {
      "text/plain": [
       "<AxesSubplot:xlabel='Attribute', ylabel='Value'>"
      ]
     },
     "execution_count": 22,
     "metadata": {},
     "output_type": "execute_result"
    },
    {
     "data": {
      "image/png": "[encoded data removed]",
      "text/plain": [
       "<Figure size 432x288 with 1 Axes>"
      ]
     },
     "metadata": {
      "needs_background": "light"
     },
     "output_type": "display_data"
    }
   ],
   "source": [
    "sns.lineplot('Attribute', 'Value', hue='cluster', data=df_nor_melt)"
   ]
  },
  {
   "cell_type": "code",
   "execution_count": 23,
   "id": "b9a54d13",
   "metadata": {},
   "outputs": [
    {
     "data": {
      "text/html": [
       "<div>\n",
       "<style scoped>\n",
       "    .dataframe tbody tr th:only-of-type {\n",
       "        vertical-align: middle;\n",
       "    }\n",
       "\n",
       "    .dataframe tbody tr th {\n",
       "        vertical-align: top;\n",
       "    }\n",
       "\n",
       "    .dataframe thead tr th {\n",
       "        text-align: left;\n",
       "    }\n",
       "\n",
       "    .dataframe thead tr:last-of-type th {\n",
       "        text-align: right;\n",
       "    }\n",
       "</style>\n",
       "<table border=\"1\" class=\"dataframe\">\n",
       "  <thead>\n",
       "    <tr>\n",
       "      <th></th>\n",
       "      <th>Recency</th>\n",
       "      <th>Frequency</th>\n",
       "      <th colspan=\"2\" halign=\"left\">MonetaryValue</th>\n",
       "    </tr>\n",
       "    <tr>\n",
       "      <th></th>\n",
       "      <th>mean</th>\n",
       "      <th>mean</th>\n",
       "      <th>mean</th>\n",
       "      <th>count</th>\n",
       "    </tr>\n",
       "    <tr>\n",
       "      <th>cluster</th>\n",
       "      <th></th>\n",
       "      <th></th>\n",
       "      <th></th>\n",
       "      <th></th>\n",
       "    </tr>\n",
       "  </thead>\n",
       "  <tbody>\n",
       "    <tr>\n",
       "      <th>0</th>\n",
       "      <td>217.7</td>\n",
       "      <td>1.6</td>\n",
       "      <td>15381.0</td>\n",
       "      <td>167</td>\n",
       "    </tr>\n",
       "    <tr>\n",
       "      <th>1</th>\n",
       "      <td>330.9</td>\n",
       "      <td>6.6</td>\n",
       "      <td>64832.5</td>\n",
       "      <td>198</td>\n",
       "    </tr>\n",
       "    <tr>\n",
       "      <th>2</th>\n",
       "      <td>599.5</td>\n",
       "      <td>1.4</td>\n",
       "      <td>13542.2</td>\n",
       "      <td>181</td>\n",
       "    </tr>\n",
       "  </tbody>\n",
       "</table>\n",
       "</div>"
      ],
      "text/plain": [
       "        Recency Frequency MonetaryValue      \n",
       "           mean      mean          mean count\n",
       "cluster                                      \n",
       "0         217.7       1.6       15381.0   167\n",
       "1         330.9       6.6       64832.5   198\n",
       "2         599.5       1.4       13542.2   181"
      ]
     },
     "execution_count": 23,
     "metadata": {},
     "output_type": "execute_result"
    }
   ],
   "source": [
    "patients.groupby('cluster').agg({\n",
    "    'Recency':'mean',\n",
    "    'Frequency':'mean',\n",
    "    'MonetaryValue':['mean', 'count']}).round(1)"
   ]
  },
  {
   "cell_type": "code",
   "execution_count": 24,
   "id": "a4eafa07",
   "metadata": {},
   "outputs": [
    {
     "data": {
      "text/html": [
       "<div>\n",
       "<style scoped>\n",
       "    .dataframe tbody tr th:only-of-type {\n",
       "        vertical-align: middle;\n",
       "    }\n",
       "\n",
       "    .dataframe tbody tr th {\n",
       "        vertical-align: top;\n",
       "    }\n",
       "\n",
       "    .dataframe thead th {\n",
       "        text-align: right;\n",
       "    }\n",
       "</style>\n",
       "<table border=\"1\" class=\"dataframe\">\n",
       "  <thead>\n",
       "    <tr style=\"text-align: right;\">\n",
       "      <th></th>\n",
       "      <th>Frequency</th>\n",
       "      <th>MonetaryValue</th>\n",
       "      <th>Recency</th>\n",
       "      <th>cluster</th>\n",
       "    </tr>\n",
       "    <tr>\n",
       "      <th>cluster</th>\n",
       "      <th></th>\n",
       "      <th></th>\n",
       "      <th></th>\n",
       "      <th></th>\n",
       "    </tr>\n",
       "  </thead>\n",
       "  <tbody>\n",
       "    <tr>\n",
       "      <th>0</th>\n",
       "      <td>-0.514384</td>\n",
       "      <td>-0.529695</td>\n",
       "      <td>-0.434998</td>\n",
       "      <td>NaN</td>\n",
       "    </tr>\n",
       "    <tr>\n",
       "      <th>1</th>\n",
       "      <td>0.956408</td>\n",
       "      <td>0.982378</td>\n",
       "      <td>-0.141239</td>\n",
       "      <td>NaN</td>\n",
       "    </tr>\n",
       "    <tr>\n",
       "      <th>2</th>\n",
       "      <td>-0.571640</td>\n",
       "      <td>-0.585922</td>\n",
       "      <td>0.555856</td>\n",
       "      <td>NaN</td>\n",
       "    </tr>\n",
       "  </tbody>\n",
       "</table>\n",
       "</div>"
      ],
      "text/plain": [
       "         Frequency  MonetaryValue   Recency  cluster\n",
       "cluster                                             \n",
       "0        -0.514384      -0.529695 -0.434998      NaN\n",
       "1         0.956408       0.982378 -0.141239      NaN\n",
       "2        -0.571640      -0.585922  0.555856      NaN"
      ]
     },
     "execution_count": 24,
     "metadata": {},
     "output_type": "execute_result"
    }
   ],
   "source": [
    "cluster_avg = patients.groupby('cluster').mean()\n",
    "population_avg = patients.mean()\n",
    "relative_imp = cluster_avg / population_avg - 1\n",
    "relative_imp"
   ]
  },
  {
   "cell_type": "markdown",
   "id": "767ff1ac",
   "metadata": {},
   "source": [
    "## Inference"
   ]
  },
  {
   "cell_type": "markdown",
   "id": "30da236a",
   "metadata": {},
   "source": [
    "#### Cluster 0-  less frequent, less money spent but recently claimed. New patients\n",
    "#### Cluster 1-  more frequent, more money spent and recently claimed. High value patients \n",
    "#### Cluster 2-  less frequent, less money spent and claimed long ago. Low value patients"
   ]
  }
 ],
 "metadata": {
  "kernelspec": {
   "display_name": "Python 3",
   "language": "python",
   "name": "python3"
  },
  "language_info": {
   "codemirror_mode": {
    "name": "ipython",
    "version": 3
   },
   "file_extension": ".py",
   "mimetype": "text/x-python",
   "name": "python",
   "nbconvert_exporter": "python",
   "pygments_lexer": "ipython3",
   "version": "3.8.8"
  }
 },
 "nbformat": 4,
 "nbformat_minor": 5
}
